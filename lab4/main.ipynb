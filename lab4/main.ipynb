{
 "cells": [
  {
   "cell_type": "code",
   "execution_count": 2,
   "metadata": {},
   "outputs": [],
   "source": [
    "import matplotlib.pyplot as plt\n",
    "import cv2\n",
    "import numpy as np\n",
    "import pandas as pd\n",
    "# from tabulate import tabulate"
   ]
  },
  {
   "cell_type": "code",
   "execution_count": 3,
   "metadata": {},
   "outputs": [],
   "source": [
    "def read_and_resize(image_path, scale=1.0):\n",
    "    image = cv2.imread(image_path)\n",
    "    if scale != 1.0:\n",
    "        image = cv2.resize(image, (0, 0), fx=scale, fy=scale)\n",
    "    return image\n",
    "\n",
    "def convert_to_grayscale(image):\n",
    "    return cv2.cvtColor(image, cv2.COLOR_BGR2GRAY)\n",
    "\n",
    "def display_image(window_name, image):\n",
    "    cv2.namedWindow(window_name, cv2.WINDOW_NORMAL)\n",
    "    cv2.imshow(window_name, image)\n",
    "    cv2.waitKey(0)\n",
    "    cv2.destroyAllWindows()"
   ]
  },
  {
   "cell_type": "markdown",
   "metadata": {},
   "source": [
    "### 4.1.1"
   ]
  },
  {
   "cell_type": "code",
   "execution_count": 4,
   "metadata": {},
   "outputs": [],
   "source": [
    "# 4.1.1\n",
    "I = read_and_resize('I.jpg')\n",
    "J = read_and_resize('J.jpg')\n",
    "\n",
    "I_gray = convert_to_grayscale(I)\n",
    "J_gray = convert_to_grayscale(J)\n",
    "\n",
    "display_image('I (Gray)', I_gray)\n",
    "display_image('J (Gray)', J_gray)\n",
    "\n",
    "diff = cv2.absdiff(I_gray, J_gray)\n",
    "display_image('Różnica', diff)"
   ]
  },
  {
   "cell_type": "markdown",
   "metadata": {},
   "source": [
    "### 4.2"
   ]
  },
  {
   "cell_type": "code",
   "execution_count": null,
   "metadata": {},
   "outputs": [],
   "source": [
    "def calculate_optical_flow(I, J, block_size=7, search_range=3):\n",
    "    \"\"\"\n",
    "        Oblicza przepływ optyczny pomiędzy dwoma obrazami w odcieniach szarości.\n",
    "        \n",
    "        :param I: Pierwszy obraz (wczesniejsza ramka).\n",
    "        :param J: Drugi obraz (późniejsza ramka).\n",
    "        :param block_size: Rozmiar bloku do analizy.\n",
    "        :param search_range: Zakres przeszukiwania dla dopasowania bloku.\n",
    "        :return: Macierze u i v zawierające wektory przepływu optycznego.\n",
    "    \"\"\"\n",
    "    W2 = block_size // 2\n",
    "    dX = dY = search_range\n",
    "    height, width = I.shape\n",
    "    u = np.zeros((height, width))\n",
    "    v = np.zeros((height, width))\n",
    "\n",
    "    for j in range(W2, height - W2):\n",
    "        for i in range(W2, width - W2):\n",
    "            IO = np.float32(I[j - W2:j + W2 + 1, i - W2:i + W2 + 1])\n",
    "            min_dist = float('inf')\n",
    "            for dy in range(-dY, dY + 1):\n",
    "                for dx in range(-dX, dX + 1):\n",
    "                    if 0 <= j + dy - W2 < height - W2 and 0 <= i + dx - W2 < width - W2:\n",
    "                        JO = np.float32(J[j + dy - W2:j + dy + W2 + 1, i + dx - W2:i + dx + W2 + 1])\n",
    "                        if IO.shape == JO.shape:\n",
    "                            dist = np.sqrt(np.sum(np.square(JO - IO)))\n",
    "                            if dist < min_dist:\n",
    "                                min_dist = dist\n",
    "                                u[j, i], v[j, i] = dx, dy\n",
    "\n",
    "    return u, v\n",
    "\n",
    "def visualize_optical_flow(I, u, v):\n",
    "    \"\"\"\n",
    "        Wizualizuje przepływ optyczny na obrazie w formie mapy kolorów.\n",
    "        \n",
    "        :param I: Obraz bazowy.\n",
    "        :param u: Macierz przesunięć w poziomie.\n",
    "        :param v: Macierz przesunięć w pionie.\n",
    "        :return: Obraz RGB z wizualizacją przepływu optycznego.\n",
    "    \"\"\"\n",
    "    magnitude, angle = cv2.cartToPolar(u, v)\n",
    "    hsv = np.zeros((I.shape[0], I.shape[1], 3), dtype=np.uint8)\n",
    "    hsv[..., 0] = angle * 90 / np.pi\n",
    "    hsv[..., 2] = 255\n",
    "    hsv[..., 1] = cv2.normalize(magnitude, None, 0, 255, cv2.NORM_MINMAX)\n",
    "    flow_rgb = cv2.cvtColor(hsv, cv2.COLOR_HSV2BGR)\n",
    "    return flow_rgb"
   ]
  },
  {
   "cell_type": "code",
   "execution_count": null,
   "metadata": {},
   "outputs": [],
   "source": [
    "I = cv2.imread('I.jpg', cv2.IMREAD_GRAYSCALE)\n",
    "J = cv2.imread('J.jpg', cv2.IMREAD_GRAYSCALE)\n",
    "\n",
    "cm1 = cv2.imread('cm1.png', cv2.IMREAD_GRAYSCALE)\n",
    "cm2 = cv2.imread('cm2.png', cv2.IMREAD_GRAYSCALE)\n",
    "\n",
    "u1, v1 = calculate_optical_flow(I, J)\n",
    "flow_visualization1 = visualize_optical_flow(I, u1, v1)\n",
    "\n",
    "u2, v2 = calculate_optical_flow(cm1, cm2)\n",
    "flow_visualization2 = visualize_optical_flow(cm1, u2, v2)\n",
    "\n",
    "cv2.imshow('Optical Flow Visualization (I)', flow_visualization1)\n",
    "cv2.imshow('Optical Flow Visualization (Cm)', flow_visualization2)\n",
    "cv2.waitKey(0)\n",
    "cv2.destroyAllWindows()"
   ]
  },
  {
   "cell_type": "code",
   "execution_count": null,
   "metadata": {},
   "outputs": [],
   "source": [
    "I = read_and_resize('I.jpg', 0.5)\n",
    "J = read_and_resize('J.jpg', 0.5)\n",
    "\n",
    "cm1 = read_and_resize('cm1.png', 0.5)\n",
    "cm2 = read_and_resize('cm2.png', 0.5)\n",
    "\n",
    "I_gray = convert_to_grayscale(I)\n",
    "J_gray = convert_to_grayscale(J)\n",
    "\n",
    "cm1_gray = convert_to_grayscale(cm1)\n",
    "cm2_gray = convert_to_grayscale(cm2)\n",
    "\n",
    "u1, v1 = calculate_optical_flow(I_gray, J_gray, block_size=5)\n",
    "flow_visualization1 = visualize_optical_flow(I_gray, u1, v1)\n",
    "\n",
    "u2, v2 = calculate_optical_flow(cm1_gray, cm2_gray, block_size=5)\n",
    "flow_visualization2 = visualize_optical_flow(cm1_gray, u2, v2)\n",
    "\n",
    "cv2.imshow('Optical Flow Visualization (I) with scale', flow_visualization1)\n",
    "cv2.imshow('Optical Flow Visualization (cm) with scale', flow_visualization2)\n",
    "cv2.waitKey(0)\n",
    "cv2.destroyAllWindows()"
   ]
  },
  {
   "cell_type": "markdown",
   "metadata": {},
   "source": [
    "### 4.3"
   ]
  },
  {
   "cell_type": "code",
   "execution_count": null,
   "metadata": {},
   "outputs": [],
   "source": [
    "def of(I_org, I, J, W2=3, dY=3, dX=3):\n",
    "    height, width = I.shape\n",
    "    u = np.zeros((height, width))\n",
    "    v = np.zeros((height, width))\n",
    "\n",
    "    for j in range(W2, height - W2):\n",
    "        for i in range(W2, width - W2):\n",
    "\n",
    "            IO = np.float32(I[j - W2:j + W2 + 1, i - W2:i + W2 + 1])\n",
    "            min_dist = float('inf')\n",
    "\n",
    "            for dy in range(-dY, dY + 1):\n",
    "                for dx in range(-dX, dX + 1):\n",
    "\n",
    "                    if 0 <= j + dy - W2 < height - W2 and 0 <= i + dx - W2 < width - W2:\n",
    "                        JO = np.float32(J[j + dy - W2:j + dy + W2 + 1, i + dx - W2:i + dx + W2 + 1])\n",
    "\n",
    "                        if IO.shape == JO.shape:\n",
    "                            dist = np.sqrt(np.sum(np.square(JO - IO)))\n",
    "\n",
    "                            if dist < min_dist:\n",
    "                                min_dist = dist\n",
    "                                u[j, i], v[j, i] = dx, dy\n",
    "    return u, v\n",
    "\n",
    "def vis_flow(u, v, shape, name):\n",
    "    magnitude, angle = cv2.cartToPolar(u, v)\n",
    "    hsv = np.zeros((shape[0], shape[1], 3), dtype=np.uint8)\n",
    "    hsv[..., 0] = angle * 90 / np.pi\n",
    "    hsv[..., 2] = 255\n",
    "    hsv[..., 1] = cv2.normalize(magnitude, None, 0, 255, cv2.NORM_MINMAX)\n",
    "    flow_rgb = cv2.cvtColor(hsv, cv2.COLOR_HSV2BGR)\n",
    "    cv2.imshow(name, flow_rgb)\n",
    "    cv2.imwrite(name + '.png', flow_rgb)\n",
    "    cv2.waitKey(0)\n",
    "    cv2.destroyAllWindows()\n",
    "\n",
    "def pyramid(im, max_scale):\n",
    "    images = [im]\n",
    "    for k in range(1, max_scale):\n",
    "        images.append(cv2.resize(images[k-1], (0,0), fx=0.5, fy=0.5))\n",
    "    return images\n",
    "\n",
    "def multi_scale_optical_flow(I_org, J_org, max_scale, W2=3, dY=3, dX=3):\n",
    "    # Generowanie piramid obrazów\n",
    "    IP = pyramid(I_org, max_scale)\n",
    "    JP = pyramid(J_org, max_scale)\n",
    "    \n",
    "    # Inicjalizacja całkowitego przepływu optycznego\n",
    "    total_u = np.zeros(I_org.shape)\n",
    "    total_v = np.zeros(I_org.shape)\n",
    "\n",
    "    # Przetwarzanie zaczynamy od najmniejszej skali\n",
    "    I = IP[-1]\n",
    "    for scale in range(max_scale-1, -1, -1):\n",
    "        J = JP[scale]\n",
    "        u, v = of(I_org, I, J, W2, dY, dX)  # Wyliczenie przepływu optycznego dla obecnej skali\n",
    "        \n",
    "        if scale > 0:\n",
    "            # Modyfikacja I na podstawie przepływu, przygotowanie do następnej skali\n",
    "            I_new = np.zeros_like(I)\n",
    "            for y in range(I.shape[0]):\n",
    "                for x in range(I.shape[1]):\n",
    "                    newX = int(x + u[y, x])\n",
    "                    newY = int(y + v[y, x])\n",
    "                    if 0 <= newX < I.shape[1] and 0 <= newY < I.shape[0]:\n",
    "                        I_new[y, x] = I[newY, newX]\n",
    "            # Przygotowanie I do następnej skali\n",
    "            I = cv2.resize(I_new, (0, 0), fx=2, fy=2, interpolation=cv2.INTER_LINEAR)\n",
    "        # Sumowanie przepływów z różnych skal\n",
    "        total_u += cv2.resize(u, (I_org.shape[1], I_org.shape[0]), interpolation=cv2.INTER_LINEAR)\n",
    "        total_v += cv2.resize(v, (J_org.shape[1], J_org.shape[0]), interpolation=cv2.INTER_LINEAR)\n",
    "\n",
    "    # Wizualizacja całkowitego przepływu optycznego\n",
    "    vis_flow(total_u, total_v, I_org.shape, 'Total Optical Flow')\n"
   ]
  },
  {
   "cell_type": "code",
   "execution_count": null,
   "metadata": {},
   "outputs": [],
   "source": [
    "I_org = cv2.imread('I.jpg', cv2.IMREAD_GRAYSCALE)\n",
    "J_org = cv2.imread('J.jpg', cv2.IMREAD_GRAYSCALE)\n",
    "\n",
    "multi_scale_optical_flow(I_org, J_org, 2)"
   ]
  },
  {
   "cell_type": "code",
   "execution_count": null,
   "metadata": {},
   "outputs": [],
   "source": [
    "multi_scale_optical_flow(I_org, J_org, 2, 5, 5, 5)"
   ]
  },
  {
   "cell_type": "code",
   "execution_count": null,
   "metadata": {},
   "outputs": [],
   "source": [
    "multi_scale_optical_flow(I_org, J_org, 3, 3, 3, 3)"
   ]
  },
  {
   "cell_type": "code",
   "execution_count": null,
   "metadata": {},
   "outputs": [],
   "source": [
    "cm1 = cv2.imread('cm1.png', cv2.IMREAD_GRAYSCALE)\n",
    "cm2 = cv2.imread('cm2.png', cv2.IMREAD_GRAYSCALE)\n",
    "\n",
    "multi_scale_optical_flow(cm1, cm2, 2)"
   ]
  },
  {
   "cell_type": "code",
   "execution_count": null,
   "metadata": {},
   "outputs": [],
   "source": [
    "multi_scale_optical_flow(cm1, cm2, 2, 5, 5, 5)"
   ]
  },
  {
   "cell_type": "code",
   "execution_count": null,
   "metadata": {},
   "outputs": [
    {
     "ename": "",
     "evalue": "",
     "output_type": "error",
     "traceback": [
      "\u001b[1;31mThe Kernel crashed while executing code in the current cell or a previous cell. \n",
      "\u001b[1;31mPlease review the code in the cell(s) to identify a possible cause of the failure. \n",
      "\u001b[1;31mClick <a href='https://aka.ms/vscodeJupyterKernelCrash'>here</a> for more info. \n",
      "\u001b[1;31mView Jupyter <a href='command:jupyter.viewOutput'>log</a> for further details."
     ]
    }
   ],
   "source": [
    "multi_scale_optical_flow(I_org, J_org, 3, 3, 3, 3)"
   ]
  }
 ],
 "metadata": {
  "kernelspec": {
   "display_name": "ZAW",
   "language": "python",
   "name": "python3"
  },
  "language_info": {
   "codemirror_mode": {
    "name": "ipython",
    "version": 3
   },
   "file_extension": ".py",
   "mimetype": "text/x-python",
   "name": "python",
   "nbconvert_exporter": "python",
   "pygments_lexer": "ipython3",
   "version": "3.12.0"
  }
 },
 "nbformat": 4,
 "nbformat_minor": 2
}
