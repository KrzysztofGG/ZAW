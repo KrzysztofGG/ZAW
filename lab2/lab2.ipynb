{
 "cells": [
  {
   "cell_type": "code",
   "execution_count": 1,
   "metadata": {},
   "outputs": [],
   "source": [
    "\n",
    "import cv2\n",
    "\n",
    "def view_clip(step):\n",
    "    for i in range (300, 1100, step) :\n",
    "        I = cv2.imread('pedestrian/input/in%06d.jpg' % i)\n",
    "        cv2.imshow (\"I\",I)\n",
    "        cv2.waitKey (10)\n",
    "\n",
    "# view_clip(5)"
   ]
  },
  {
   "cell_type": "code",
   "execution_count": 2,
   "metadata": {},
   "outputs": [
    {
     "ename": "",
     "evalue": "",
     "output_type": "error",
     "traceback": [
      "\u001b[1;31mThe Kernel crashed while executing code in the the current cell or a previous cell. Please review the code in the cell(s) to identify a possible cause of the failure. Click <a href='https://aka.ms/vscodeJupyterKernelCrash'>here</a> for more info. View Jupyter <a href='command:jupyter.viewOutput'>log</a> for further details."
     ]
    }
   ],
   "source": [
    "import cv2\n",
    "\n",
    "def clip_binarize():    \n",
    "    prev = cv2.imread('pedestrian/input/in000001.jpg', cv2.IMREAD_GRAYSCALE).astype('int')\n",
    "    for i in range (300, 1100) :\n",
    "        next = cv2.imread('pedestrian/input/in%06d.jpg' % i, cv2.IMREAD_GRAYSCALE).astype('int')\n",
    "        D = abs(next - prev)\n",
    "        B = 1*( D > 10)\n",
    "        B = (B * 255).astype('uint8')\n",
    "        cv2.imshow(\"I\", B)\n",
    "        cv2.waitKey(10)\n",
    "        prev = next\n",
    "\n",
    "clip_binarize()"
   ]
  },
  {
   "cell_type": "code",
   "execution_count": null,
   "metadata": {},
   "outputs": [
    {
     "ename": "",
     "evalue": "",
     "output_type": "error",
     "traceback": [
      "\u001b[1;31mThe Kernel crashed while executing code in the the current cell or a previous cell. Please review the code in the cell(s) to identify a possible cause of the failure. Click <a href='https://aka.ms/vscodeJupyterKernelCrash'>here</a> for more info. View Jupyter <a href='command:jupyter.viewOutput'>log</a> for further details."
     ]
    }
   ],
   "source": [
    "import cv2\n",
    "import numpy as np\n",
    "\n",
    "\n",
    "def clip_morph():    \n",
    "    prev = cv2.imread('pedestrian/input/in000001.jpg', cv2.IMREAD_GRAYSCALE).astype('int')\n",
    "    for i in range (300, 1100) :\n",
    "        next = cv2.imread('pedestrian/input/in%06d.jpg' % i, cv2.IMREAD_GRAYSCALE).astype('int')\n",
    "        D = abs(next - prev)\n",
    "        B = 1*( D > 10)\n",
    "        B = (B * 255).astype('uint8')\n",
    "        B_blur = cv2.medianBlur(B, 5)\n",
    "        B_erode = cv2.erode(B_blur, np.ones((3, 3)))\n",
    "        B_dil = cv2.dilate(B_erode, np.ones((3, 3)))\n",
    "        cv2.imshow(\"I\", B_dil)\n",
    "        cv2.waitKey(10)\n",
    "        prev = next\n",
    "\n",
    "clip_morph()"
   ]
  },
  {
   "cell_type": "code",
   "execution_count": 1,
   "metadata": {},
   "outputs": [],
   "source": [
    "import cv2\n",
    "import numpy as np\n",
    "\n",
    "\n",
    "def clip_index():    \n",
    "    prev = cv2.imread('pedestrian/input/in000001.jpg', cv2.IMREAD_GRAYSCALE).astype('int')\n",
    "    for i in range (300, 1100) :\n",
    "        next = cv2.imread('pedestrian/input/in%06d.jpg' % i, cv2.IMREAD_GRAYSCALE).astype('int')\n",
    "        D = abs(next - prev)\n",
    "        B = 1*( D > 13)\n",
    "        B = (B * 255).astype('uint8')\n",
    "\n",
    "        B_blur = cv2.medianBlur(B, 5)\n",
    "        B_erode = cv2.erode(B_blur, np.ones((3, 3)))\n",
    "        B_dil = cv2.dilate(B_erode, np.ones((3, 3)))\n",
    "        B_dil = cv2.dilate(B_erode, np.ones((3, 3)))\n",
    "        #wiecej dylatacji??\n",
    "        retval, labels, stats, centroids = cv2.connectedComponentsWithStats(B_dil)\n",
    "        I_VIS = B_dil # copy of the input image\n",
    "        if ( stats . shape [0] > 1) : # are there any objects\n",
    "            tab = stats [1: ,4] # 4 columns without first element\n",
    "            pi = np . argmax ( tab )# finding the index of the largest item\n",
    "            pi = pi + 1 # increment because we want the index in stats , not in tab\n",
    "            # drawing a bbox\n",
    "            cv2 . rectangle ( I_VIS ,( stats [pi ,0] , stats [pi ,1]) ,( stats [ pi ,0]+ stats [ pi ,2] , stats [ pi\n",
    "            ,1]+ stats [ pi ,3]) ,(255 ,0 ,0) ,2)\n",
    "            # print information about the field and the number of the largest element\n",
    "            cv2.putText(I_VIS,\"%f\" % stats [pi ,4], (stats[pi, 0], stats[pi, 1]), cv2.\n",
    "                FONT_HERSHEY_SIMPLEX, 0.5, (255, 0, 0))\n",
    "            cv2 . putText ( I_VIS ,\"%d\" %pi ,(int( centroids [ pi ,0]) ,int( centroids [ pi ,1]) ) , cv2 .\n",
    "            FONT_HERSHEY_SIMPLEX ,1 ,(255 ,0 ,0) )\n",
    "            cv2.imshow(\"Labels\", I_VIS)\n",
    "\n",
    "        cv2.waitKey(10)\n",
    "        prev = next\n",
    "\n",
    "clip_index()"
   ]
  }
 ],
 "metadata": {
  "kernelspec": {
   "display_name": "Python 3",
   "language": "python",
   "name": "python3"
  },
  "language_info": {
   "codemirror_mode": {
    "name": "ipython",
    "version": 3
   },
   "file_extension": ".py",
   "mimetype": "text/x-python",
   "name": "python",
   "nbconvert_exporter": "python",
   "pygments_lexer": "ipython3",
   "version": "3.12.0"
  }
 },
 "nbformat": 4,
 "nbformat_minor": 2
}
