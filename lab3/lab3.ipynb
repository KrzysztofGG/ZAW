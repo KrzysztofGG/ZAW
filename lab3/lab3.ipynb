{
 "cells": [
  {
   "cell_type": "code",
   "execution_count": 8,
   "metadata": {},
   "outputs": [
    {
     "ename": "KeyboardInterrupt",
     "evalue": "",
     "output_type": "error",
     "traceback": [
      "\u001b[1;31m---------------------------------------------------------------------------\u001b[0m",
      "\u001b[1;31mKeyboardInterrupt\u001b[0m                         Traceback (most recent call last)",
      "Cell \u001b[1;32mIn[8], line 36\u001b[0m\n\u001b[0;32m     31\u001b[0m         cv2\u001b[38;5;241m.\u001b[39mwaitKey(\u001b[38;5;241m10\u001b[39m)\n\u001b[0;32m     33\u001b[0m     cv2\u001b[38;5;241m.\u001b[39mdestroyAllWindows()\n\u001b[1;32m---> 36\u001b[0m \u001b[43msegmentation\u001b[49m\u001b[43m(\u001b[49m\u001b[43m)\u001b[49m\n",
      "Cell \u001b[1;32mIn[8], line 31\u001b[0m, in \u001b[0;36msegmentation\u001b[1;34m()\u001b[0m\n\u001b[0;32m     28\u001b[0m         \u001b[38;5;66;03m# final_img = cv2.dilate(thresh, cv2.getStructuringElement(cv2.MORPH_ELLIPSE, (3, 3)), iterations=1)\u001b[39;00m\n\u001b[0;32m     29\u001b[0m         \u001b[38;5;66;03m# cv2.imshow(\"I\", final_img)\u001b[39;00m\n\u001b[0;32m     30\u001b[0m         cv2\u001b[38;5;241m.\u001b[39mimshow(\u001b[38;5;124m\"\u001b[39m\u001b[38;5;124mI\u001b[39m\u001b[38;5;124m\"\u001b[39m, thresh)\n\u001b[1;32m---> 31\u001b[0m     \u001b[43mcv2\u001b[49m\u001b[38;5;241;43m.\u001b[39;49m\u001b[43mwaitKey\u001b[49m\u001b[43m(\u001b[49m\u001b[38;5;241;43m10\u001b[39;49m\u001b[43m)\u001b[49m\n\u001b[0;32m     33\u001b[0m cv2\u001b[38;5;241m.\u001b[39mdestroyAllWindows()\n",
      "\u001b[1;31mKeyboardInterrupt\u001b[0m: "
     ]
    }
   ],
   "source": [
    "import cv2\n",
    "import numpy as np\n",
    "def segmentation():    \n",
    "    I = cv2.imread(f'pedestrians_empty_bg.jpg')\n",
    "    I = cv2.cvtColor(I, cv2.COLOR_BGR2GRAY)\n",
    "    cap = cv2.VideoCapture('pedestrians_input.mp4')\n",
    "    # success, image = vidcap.read()\n",
    "    YY, XX = I.shape    \n",
    "    N = 60\n",
    "    iN = 0  \n",
    "    BUF = np.zeros((YY, XX, N), np.uint8)\n",
    "\n",
    "    while True:\n",
    "        if cap.grab():\n",
    "            flag, frame = cap.retrieve()\n",
    "            IG = cv2.cvtColor(frame, cv2.COLOR_BGR2GRAY)\n",
    "            BUF[:, :, iN] = IG\n",
    "            \n",
    "            iN += 1\n",
    "            if iN >= N:\n",
    "                iN = 0\n",
    "\n",
    "            # val = np.mean(BUF, axis=2).astype('uint8')\n",
    "            val = np.median(BUF, axis=2).astype('uint8')\n",
    "            scene = cv2.absdiff(val, IG)\n",
    "            blur = cv2.GaussianBlur(scene, (3, 3), 0)\n",
    "            ret, thresh = cv2.threshold(scene, 20, 255, cv2.THRESH_BINARY)\n",
    "            # cv2.imshow(\"I\", final_img)\n",
    "            cv2.imshow(\"I\", thresh)\n",
    "        cv2.waitKey(10)\n",
    "    cv2.destroyAllWindows()\n",
    "\n",
    "segmentation()"
   ]
  }
 ],
 "metadata": {
  "kernelspec": {
   "display_name": "Python 3",
   "language": "python",
   "name": "python3"
  },
  "language_info": {
   "codemirror_mode": {
    "name": "ipython",
    "version": 3
   },
   "file_extension": ".py",
   "mimetype": "text/x-python",
   "name": "python",
   "nbconvert_exporter": "python",
   "pygments_lexer": "ipython3",
   "version": "3.12.0"
  }
 },
 "nbformat": 4,
 "nbformat_minor": 2
}
